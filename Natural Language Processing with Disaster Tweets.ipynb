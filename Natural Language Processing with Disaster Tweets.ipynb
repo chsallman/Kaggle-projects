{
 "cells": [
  {
   "cell_type": "markdown",
   "id": "145555da",
   "metadata": {},
   "source": [
    "# <h1 style=\"font-family: Trebuchet MS; padding: 20px; font-size: 25px; color: #00000; text-align: center; line-height: 0.75;background-color: #ADD8E6; color: #00000\"><b>Natural Language Processing with Disaster Tweets</b><br></h1>"
   ]
  },
  {
   "cell_type": "markdown",
   "id": "7c1a4486",
   "metadata": {},
   "source": [
    "<h1>Table of contents</h1>\n",
    "\n",
    "<div class=\"alert alert-block alert-info\" style=\"margin-top: 20px\">\n",
    "    <ol>\n",
    "        <li><a href=\"https://#understanding-data\">Import Libraries</a></li>\n",
    "        <li><a href=\"https://#reading_data\">Data Sets</a></li>\n",
    "        <li><a href=\"https://#multiple_regression_model\">Functions</a></li>\n",
    "        <li><a href=\"https://#prediction\">DataSet Cleaning</a></li>\n",
    "        <li><a href=\"https://#practice\">Pre processing</a></li>\n",
    "        <li><a href=\"https://#practice\">Modeling</a></li>\n",
    "         <li><a href=\"https://#practice\">Conclusion</a></li>\n",
    "         <li><a href=\"https://#practice\">TF-IDF</a></li>\n",
    "         <li><a href=\"https://#practice\">Summary</a></li>\n",
    "    </ol>\n",
    "</div>\n",
    "<br>\n",
    "<hr>\n",
    "\n",
    "\n"
   ]
  },
  {
   "cell_type": "markdown",
   "id": "fa938fe1",
   "metadata": {},
   "source": [
    "# 1. Importing Libraries"
   ]
  },
  {
   "cell_type": "code",
   "execution_count": 1,
   "id": "a064f354",
   "metadata": {},
   "outputs": [],
   "source": [
    "import pandas as pd\n",
    "import numpy as np\n",
    "import matplotlib.pyplot as plt\n",
    "import nltk\n",
    "from nltk.corpus import stopwords\n",
    "from nltk.stem import PorterStemmer\n",
    "from nltk.tokenize import TweetTokenizer\n",
    "import string\n",
    "import re"
   ]
  },
  {
   "cell_type": "markdown",
   "id": "aca811d8",
   "metadata": {},
   "source": [
    "Pandas and Numpy for Data manipulation.\n",
    "\n",
    "Matplot for visualization\n",
    "\n",
    "NLTK, re and string for Data Preprocessing"
   ]
  },
  {
   "cell_type": "markdown",
   "id": "333221ec",
   "metadata": {},
   "source": [
    "# 2. Importing DataSets"
   ]
  },
  {
   "cell_type": "markdown",
   "id": "aec58b1e",
   "metadata": {},
   "source": [
    "### 2.1 Train Data"
   ]
  },
  {
   "cell_type": "code",
   "execution_count": 2,
   "id": "02835aba",
   "metadata": {},
   "outputs": [],
   "source": [
    "df = pd.read_csv('/Users/macbook/Desktop/DATA SCIENCE/Kaggle notebooks/NLP disaster/train.csv')\n",
    "#df =pd.read_csv(\"/kaggle/input/nlp-getting-started/train.csv\")"
   ]
  },
  {
   "cell_type": "code",
   "execution_count": 3,
   "id": "17c261ea",
   "metadata": {},
   "outputs": [
    {
     "data": {
      "text/html": [
       "<div>\n",
       "<style scoped>\n",
       "    .dataframe tbody tr th:only-of-type {\n",
       "        vertical-align: middle;\n",
       "    }\n",
       "\n",
       "    .dataframe tbody tr th {\n",
       "        vertical-align: top;\n",
       "    }\n",
       "\n",
       "    .dataframe thead th {\n",
       "        text-align: right;\n",
       "    }\n",
       "</style>\n",
       "<table border=\"1\" class=\"dataframe\">\n",
       "  <thead>\n",
       "    <tr style=\"text-align: right;\">\n",
       "      <th></th>\n",
       "      <th>id</th>\n",
       "      <th>keyword</th>\n",
       "      <th>location</th>\n",
       "      <th>text</th>\n",
       "      <th>target</th>\n",
       "    </tr>\n",
       "  </thead>\n",
       "  <tbody>\n",
       "    <tr>\n",
       "      <th>0</th>\n",
       "      <td>1</td>\n",
       "      <td>NaN</td>\n",
       "      <td>NaN</td>\n",
       "      <td>Our Deeds are the Reason of this #earthquake M...</td>\n",
       "      <td>1</td>\n",
       "    </tr>\n",
       "    <tr>\n",
       "      <th>1</th>\n",
       "      <td>4</td>\n",
       "      <td>NaN</td>\n",
       "      <td>NaN</td>\n",
       "      <td>Forest fire near La Ronge Sask. Canada</td>\n",
       "      <td>1</td>\n",
       "    </tr>\n",
       "    <tr>\n",
       "      <th>2</th>\n",
       "      <td>5</td>\n",
       "      <td>NaN</td>\n",
       "      <td>NaN</td>\n",
       "      <td>All residents asked to 'shelter in place' are ...</td>\n",
       "      <td>1</td>\n",
       "    </tr>\n",
       "    <tr>\n",
       "      <th>3</th>\n",
       "      <td>6</td>\n",
       "      <td>NaN</td>\n",
       "      <td>NaN</td>\n",
       "      <td>13,000 people receive #wildfires evacuation or...</td>\n",
       "      <td>1</td>\n",
       "    </tr>\n",
       "    <tr>\n",
       "      <th>4</th>\n",
       "      <td>7</td>\n",
       "      <td>NaN</td>\n",
       "      <td>NaN</td>\n",
       "      <td>Just got sent this photo from Ruby #Alaska as ...</td>\n",
       "      <td>1</td>\n",
       "    </tr>\n",
       "    <tr>\n",
       "      <th>...</th>\n",
       "      <td>...</td>\n",
       "      <td>...</td>\n",
       "      <td>...</td>\n",
       "      <td>...</td>\n",
       "      <td>...</td>\n",
       "    </tr>\n",
       "    <tr>\n",
       "      <th>7608</th>\n",
       "      <td>10869</td>\n",
       "      <td>NaN</td>\n",
       "      <td>NaN</td>\n",
       "      <td>Two giant cranes holding a bridge collapse int...</td>\n",
       "      <td>1</td>\n",
       "    </tr>\n",
       "    <tr>\n",
       "      <th>7609</th>\n",
       "      <td>10870</td>\n",
       "      <td>NaN</td>\n",
       "      <td>NaN</td>\n",
       "      <td>@aria_ahrary @TheTawniest The out of control w...</td>\n",
       "      <td>1</td>\n",
       "    </tr>\n",
       "    <tr>\n",
       "      <th>7610</th>\n",
       "      <td>10871</td>\n",
       "      <td>NaN</td>\n",
       "      <td>NaN</td>\n",
       "      <td>M1.94 [01:04 UTC]?5km S of Volcano Hawaii. htt...</td>\n",
       "      <td>1</td>\n",
       "    </tr>\n",
       "    <tr>\n",
       "      <th>7611</th>\n",
       "      <td>10872</td>\n",
       "      <td>NaN</td>\n",
       "      <td>NaN</td>\n",
       "      <td>Police investigating after an e-bike collided ...</td>\n",
       "      <td>1</td>\n",
       "    </tr>\n",
       "    <tr>\n",
       "      <th>7612</th>\n",
       "      <td>10873</td>\n",
       "      <td>NaN</td>\n",
       "      <td>NaN</td>\n",
       "      <td>The Latest: More Homes Razed by Northern Calif...</td>\n",
       "      <td>1</td>\n",
       "    </tr>\n",
       "  </tbody>\n",
       "</table>\n",
       "<p>7613 rows × 5 columns</p>\n",
       "</div>"
      ],
      "text/plain": [
       "         id keyword location  \\\n",
       "0         1     NaN      NaN   \n",
       "1         4     NaN      NaN   \n",
       "2         5     NaN      NaN   \n",
       "3         6     NaN      NaN   \n",
       "4         7     NaN      NaN   \n",
       "...     ...     ...      ...   \n",
       "7608  10869     NaN      NaN   \n",
       "7609  10870     NaN      NaN   \n",
       "7610  10871     NaN      NaN   \n",
       "7611  10872     NaN      NaN   \n",
       "7612  10873     NaN      NaN   \n",
       "\n",
       "                                                   text  target  \n",
       "0     Our Deeds are the Reason of this #earthquake M...       1  \n",
       "1                Forest fire near La Ronge Sask. Canada       1  \n",
       "2     All residents asked to 'shelter in place' are ...       1  \n",
       "3     13,000 people receive #wildfires evacuation or...       1  \n",
       "4     Just got sent this photo from Ruby #Alaska as ...       1  \n",
       "...                                                 ...     ...  \n",
       "7608  Two giant cranes holding a bridge collapse int...       1  \n",
       "7609  @aria_ahrary @TheTawniest The out of control w...       1  \n",
       "7610  M1.94 [01:04 UTC]?5km S of Volcano Hawaii. htt...       1  \n",
       "7611  Police investigating after an e-bike collided ...       1  \n",
       "7612  The Latest: More Homes Razed by Northern Calif...       1  \n",
       "\n",
       "[7613 rows x 5 columns]"
      ]
     },
     "execution_count": 3,
     "metadata": {},
     "output_type": "execute_result"
    }
   ],
   "source": [
    "df"
   ]
  },
  {
   "cell_type": "markdown",
   "id": "486dc572",
   "metadata": {},
   "source": [
    "### 2.2 Test Data"
   ]
  },
  {
   "cell_type": "code",
   "execution_count": 4,
   "id": "6b9a2b54",
   "metadata": {},
   "outputs": [],
   "source": [
    "test= pd.read_csv('/Users/macbook/Desktop/DATA SCIENCE/Kaggle notebooks/NLP disaster/test.csv')\n",
    "#test = pd.read_csv(\"/kaggle/input/nlp-getting-started/test.csv\")"
   ]
  },
  {
   "cell_type": "code",
   "execution_count": 5,
   "id": "90afdf57",
   "metadata": {},
   "outputs": [
    {
     "data": {
      "text/html": [
       "<div>\n",
       "<style scoped>\n",
       "    .dataframe tbody tr th:only-of-type {\n",
       "        vertical-align: middle;\n",
       "    }\n",
       "\n",
       "    .dataframe tbody tr th {\n",
       "        vertical-align: top;\n",
       "    }\n",
       "\n",
       "    .dataframe thead th {\n",
       "        text-align: right;\n",
       "    }\n",
       "</style>\n",
       "<table border=\"1\" class=\"dataframe\">\n",
       "  <thead>\n",
       "    <tr style=\"text-align: right;\">\n",
       "      <th></th>\n",
       "      <th>id</th>\n",
       "      <th>keyword</th>\n",
       "      <th>location</th>\n",
       "      <th>text</th>\n",
       "    </tr>\n",
       "  </thead>\n",
       "  <tbody>\n",
       "    <tr>\n",
       "      <th>0</th>\n",
       "      <td>0</td>\n",
       "      <td>NaN</td>\n",
       "      <td>NaN</td>\n",
       "      <td>Just happened a terrible car crash</td>\n",
       "    </tr>\n",
       "    <tr>\n",
       "      <th>1</th>\n",
       "      <td>2</td>\n",
       "      <td>NaN</td>\n",
       "      <td>NaN</td>\n",
       "      <td>Heard about #earthquake is different cities, s...</td>\n",
       "    </tr>\n",
       "    <tr>\n",
       "      <th>2</th>\n",
       "      <td>3</td>\n",
       "      <td>NaN</td>\n",
       "      <td>NaN</td>\n",
       "      <td>there is a forest fire at spot pond, geese are...</td>\n",
       "    </tr>\n",
       "    <tr>\n",
       "      <th>3</th>\n",
       "      <td>9</td>\n",
       "      <td>NaN</td>\n",
       "      <td>NaN</td>\n",
       "      <td>Apocalypse lighting. #Spokane #wildfires</td>\n",
       "    </tr>\n",
       "    <tr>\n",
       "      <th>4</th>\n",
       "      <td>11</td>\n",
       "      <td>NaN</td>\n",
       "      <td>NaN</td>\n",
       "      <td>Typhoon Soudelor kills 28 in China and Taiwan</td>\n",
       "    </tr>\n",
       "    <tr>\n",
       "      <th>...</th>\n",
       "      <td>...</td>\n",
       "      <td>...</td>\n",
       "      <td>...</td>\n",
       "      <td>...</td>\n",
       "    </tr>\n",
       "    <tr>\n",
       "      <th>3258</th>\n",
       "      <td>10861</td>\n",
       "      <td>NaN</td>\n",
       "      <td>NaN</td>\n",
       "      <td>EARTHQUAKE SAFETY LOS ANGELES ÛÒ SAFETY FASTE...</td>\n",
       "    </tr>\n",
       "    <tr>\n",
       "      <th>3259</th>\n",
       "      <td>10865</td>\n",
       "      <td>NaN</td>\n",
       "      <td>NaN</td>\n",
       "      <td>Storm in RI worse than last hurricane. My city...</td>\n",
       "    </tr>\n",
       "    <tr>\n",
       "      <th>3260</th>\n",
       "      <td>10868</td>\n",
       "      <td>NaN</td>\n",
       "      <td>NaN</td>\n",
       "      <td>Green Line derailment in Chicago http://t.co/U...</td>\n",
       "    </tr>\n",
       "    <tr>\n",
       "      <th>3261</th>\n",
       "      <td>10874</td>\n",
       "      <td>NaN</td>\n",
       "      <td>NaN</td>\n",
       "      <td>MEG issues Hazardous Weather Outlook (HWO) htt...</td>\n",
       "    </tr>\n",
       "    <tr>\n",
       "      <th>3262</th>\n",
       "      <td>10875</td>\n",
       "      <td>NaN</td>\n",
       "      <td>NaN</td>\n",
       "      <td>#CityofCalgary has activated its Municipal Eme...</td>\n",
       "    </tr>\n",
       "  </tbody>\n",
       "</table>\n",
       "<p>3263 rows × 4 columns</p>\n",
       "</div>"
      ],
      "text/plain": [
       "         id keyword location  \\\n",
       "0         0     NaN      NaN   \n",
       "1         2     NaN      NaN   \n",
       "2         3     NaN      NaN   \n",
       "3         9     NaN      NaN   \n",
       "4        11     NaN      NaN   \n",
       "...     ...     ...      ...   \n",
       "3258  10861     NaN      NaN   \n",
       "3259  10865     NaN      NaN   \n",
       "3260  10868     NaN      NaN   \n",
       "3261  10874     NaN      NaN   \n",
       "3262  10875     NaN      NaN   \n",
       "\n",
       "                                                   text  \n",
       "0                    Just happened a terrible car crash  \n",
       "1     Heard about #earthquake is different cities, s...  \n",
       "2     there is a forest fire at spot pond, geese are...  \n",
       "3              Apocalypse lighting. #Spokane #wildfires  \n",
       "4         Typhoon Soudelor kills 28 in China and Taiwan  \n",
       "...                                                 ...  \n",
       "3258  EARTHQUAKE SAFETY LOS ANGELES ÛÒ SAFETY FASTE...  \n",
       "3259  Storm in RI worse than last hurricane. My city...  \n",
       "3260  Green Line derailment in Chicago http://t.co/U...  \n",
       "3261  MEG issues Hazardous Weather Outlook (HWO) htt...  \n",
       "3262  #CityofCalgary has activated its Municipal Eme...  \n",
       "\n",
       "[3263 rows x 4 columns]"
      ]
     },
     "execution_count": 5,
     "metadata": {},
     "output_type": "execute_result"
    }
   ],
   "source": [
    "test"
   ]
  },
  {
   "cell_type": "markdown",
   "id": "e2302b0a",
   "metadata": {},
   "source": [
    "# Function"
   ]
  },
  {
   "cell_type": "markdown",
   "id": "367abf2d",
   "metadata": {},
   "source": [
    "### Process Tweet\n",
    "To exclude unnecessary words in tweets. \n",
    "\n",
    "This includes\n",
    "* hyperlinks\n",
    "* hashtags\n",
    "* any sign\n",
    "\n",
    "And do preprocessing. Includes\n",
    "* tokenized\n",
    "* stopwords\n",
    "* stemming"
   ]
  },
  {
   "cell_type": "code",
   "execution_count": 6,
   "id": "194c30ba",
   "metadata": {},
   "outputs": [],
   "source": [
    "def process_tweet(tweet):\n",
    "    tweet = str(tweet)\n",
    "    stemmer = PorterStemmer()\n",
    "    stopwords_english = stopwords.words('english')\n",
    "# remove stock market tickers like $GE\n",
    "    tweet = re.sub(r'\\$\\w*', '', tweet)\n",
    "# remove old style retweet text \"RT\"\n",
    "    tweet = re.sub(r'^RT[\\s]+', '', tweet)\n",
    "# remove hyperlinks\n",
    "    tweet = re.sub(r'https?:\\/\\/.*[\\r\\n]*', '', tweet)\n",
    "# remove hashtags\n",
    "# only removing the hash # sign from the word\n",
    "    tweet = re.sub(r'#', '', tweet)\n",
    "    tweet = re.sub('[^A-Za-z]+', ' ', tweet)\n",
    "# tokenize tweets\n",
    "    tokenizer = TweetTokenizer(preserve_case=False, strip_handles=True,\n",
    "                           reduce_len=True)\n",
    "    tweet_tokens = tokenizer.tokenize(tweet)\n",
    "    tweets_clean = []\n",
    "    for word in tweet_tokens:\n",
    "        if (word not in stopwords_english and  # remove stopwords\n",
    "                word not in string.punctuation):  # remove punctuation\n",
    "        # tweets_clean.append(word)\n",
    "            stem_word = stemmer.stem(word)  # stemming word\n",
    "            tweets_clean.append(stem_word)\n",
    "    return tweets_clean"
   ]
  },
  {
   "cell_type": "code",
   "execution_count": 7,
   "id": "ebfe26fe",
   "metadata": {},
   "outputs": [],
   "source": [
    "def processs_tweet(tweet):\n",
    "    tweet = str(tweet)\n",
    "    stemmer = PorterStemmer()\n",
    "    stopwords_english = stopwords.words('english')\n",
    "# remove stock market tickers like $GE\n",
    "    tweet = re.sub(r'\\$\\w*', '', tweet)\n",
    "# remove old style retweet text \"RT\"\n",
    "    tweet = re.sub(r'^RT[\\s]+', '', tweet)\n",
    "# remove hyperlinks\n",
    "    tweet = re.sub(r'https?:\\/\\/.*[\\r\\n]*', '', tweet)\n",
    "# remove hashtags\n",
    "# only removing the hash # sign from the word\n",
    "    tweet = re.sub(r'#', '', tweet)\n",
    "    tweet = re.sub('[^A-Za-z]+', ' ', tweet)\n",
    "   \n",
    "    words = nltk.word_tokenize(tweet)\n",
    "    stop_words = set(nltk.corpus.stopwords.words('english'))\n",
    "    words = [PorterStemmer().stem(word) for word in words if word.lower() not in stop_words]\n",
    "    cleaned_text = ' '.join(words)\n",
    "    return cleaned_text\n",
    "\n",
    "\n",
    "    #return tweets_clean"
   ]
  },
  {
   "cell_type": "markdown",
   "id": "5b1aa1e3",
   "metadata": {},
   "source": [
    "### Building Vocabulary\n",
    "In this we assign aunique integer to every possible word in the data set"
   ]
  },
  {
   "cell_type": "code",
   "execution_count": 8,
   "id": "a29dd86c",
   "metadata": {},
   "outputs": [
    {
     "name": "stdout",
     "output_type": "stream",
     "text": [
      "Total words in vocab are 12542\n"
     ]
    }
   ],
   "source": [
    "# Build the vocabulary\n",
    "# Unit Test Note - There is no test set here only train/val\n",
    "def get_vocab(train_data):\n",
    "\n",
    "    # Include special tokens \n",
    "    # started with pad, end of line and unk tokens\n",
    "    Vocab = {'__PAD__': 0, '__</e>__': 1, '__UNK__': 2} \n",
    "\n",
    "    # Note that we build vocab using training data\n",
    "    for tweet in train_data:\n",
    "        processtweet= process_tweet(tweet)\n",
    "        for word in processtweet:\n",
    "            if word not in Vocab: \n",
    "                Vocab[word] = len(Vocab)\n",
    "    \n",
    "    return Vocab\n",
    "\n",
    "Vocab = get_vocab(df['text'])\n",
    "\n",
    "print(\"Total words in vocab are\",len(Vocab))"
   ]
  },
  {
   "cell_type": "markdown",
   "id": "9b1cb874",
   "metadata": {},
   "source": [
    "### Converting strings to Tensors.\n",
    "Tensors are a integer representation of string words\n",
    "We can't run models on string so we need to have numeric data set"
   ]
  },
  {
   "cell_type": "code",
   "execution_count": 9,
   "id": "24e706ae",
   "metadata": {},
   "outputs": [],
   "source": [
    "def tweet_to_tensor(tweet, vocab_dict, unk_token='__UNK__', verbose=False):\n",
    "    '''\n",
    "    Input: \n",
    "        tweet - A string containing a tweet\n",
    "        vocab_dict - The words dictionary\n",
    "        unk_token - The special string for unknown tokens\n",
    "        verbose - Print info durign runtime\n",
    "    Output:\n",
    "        tensor_l - A python list with\n",
    "        \n",
    "    '''     \n",
    "    ### START CODE HERE (Replace instances of 'None' with your code) ###\n",
    "    # Process the tweet into a list of words\n",
    "    # where only important words are kept (stop words removed)\n",
    "    word_l = process_tweet(tweet)\n",
    "    \n",
    "    if verbose:\n",
    "        print(\"List of words from the processed tweet:\")\n",
    "        print(word_l)\n",
    "        \n",
    "    # Initialize the list that will contain the unique integer IDs of each word\n",
    "    tensor_l = [] \n",
    "    \n",
    "    # Get the unique integer ID of the __UNK__ token\n",
    "    unk_ID = vocab_dict[unk_token]\n",
    "    \n",
    "    if verbose:\n",
    "        print(f\"The unique integer ID for the unk_token is {unk_ID}\")\n",
    "        \n",
    "    # for each word in the list:\n",
    "    for word in word_l:\n",
    "        \n",
    "        # Get the unique integer ID.\n",
    "        # If the word doesn't exist in the vocab dictionary,\n",
    "        # use the unique ID for __UNK__ instead.        \n",
    "        word_ID = vocab_dict[word] if word in vocab_dict else unk_ID  \n",
    "        # Append the unique integer ID to the tensor list.\n",
    "        tensor_l.append(word_ID)\n",
    "    ### END CODE HERE ###\n",
    "    \n",
    "    return tensor_l"
   ]
  },
  {
   "cell_type": "markdown",
   "id": "053c3dee",
   "metadata": {},
   "source": [
    "# Data Set Cleaning"
   ]
  },
  {
   "cell_type": "code",
   "execution_count": 10,
   "id": "fa1350db",
   "metadata": {},
   "outputs": [],
   "source": [
    "df['Processed Tweet(array)']= df['text'].apply(process_tweet)\n",
    "df['Cleaned(not array)']=df['text'].apply(processs_tweet)"
   ]
  },
  {
   "cell_type": "markdown",
   "id": "37a7801b",
   "metadata": {},
   "source": [
    "Processed tweets are array\n",
    "\n",
    "Clean tweets are just a strings"
   ]
  },
  {
   "cell_type": "code",
   "execution_count": 11,
   "id": "abb276de",
   "metadata": {},
   "outputs": [
    {
     "data": {
      "text/html": [
       "<div>\n",
       "<style scoped>\n",
       "    .dataframe tbody tr th:only-of-type {\n",
       "        vertical-align: middle;\n",
       "    }\n",
       "\n",
       "    .dataframe tbody tr th {\n",
       "        vertical-align: top;\n",
       "    }\n",
       "\n",
       "    .dataframe thead th {\n",
       "        text-align: right;\n",
       "    }\n",
       "</style>\n",
       "<table border=\"1\" class=\"dataframe\">\n",
       "  <thead>\n",
       "    <tr style=\"text-align: right;\">\n",
       "      <th></th>\n",
       "      <th>id</th>\n",
       "      <th>keyword</th>\n",
       "      <th>location</th>\n",
       "      <th>text</th>\n",
       "      <th>target</th>\n",
       "      <th>Processed Tweet(array)</th>\n",
       "      <th>Cleaned(not array)</th>\n",
       "    </tr>\n",
       "  </thead>\n",
       "  <tbody>\n",
       "    <tr>\n",
       "      <th>0</th>\n",
       "      <td>1</td>\n",
       "      <td>NaN</td>\n",
       "      <td>NaN</td>\n",
       "      <td>Our Deeds are the Reason of this #earthquake M...</td>\n",
       "      <td>1</td>\n",
       "      <td>[deed, reason, earthquak, may, allah, forgiv, us]</td>\n",
       "      <td>deed reason earthquak may allah forgiv us</td>\n",
       "    </tr>\n",
       "    <tr>\n",
       "      <th>1</th>\n",
       "      <td>4</td>\n",
       "      <td>NaN</td>\n",
       "      <td>NaN</td>\n",
       "      <td>Forest fire near La Ronge Sask. Canada</td>\n",
       "      <td>1</td>\n",
       "      <td>[forest, fire, near, la, rong, sask, canada]</td>\n",
       "      <td>forest fire near la rong sask canada</td>\n",
       "    </tr>\n",
       "    <tr>\n",
       "      <th>2</th>\n",
       "      <td>5</td>\n",
       "      <td>NaN</td>\n",
       "      <td>NaN</td>\n",
       "      <td>All residents asked to 'shelter in place' are ...</td>\n",
       "      <td>1</td>\n",
       "      <td>[resid, ask, shelter, place, notifi, offic, ev...</td>\n",
       "      <td>resid ask shelter place notifi offic evacu she...</td>\n",
       "    </tr>\n",
       "    <tr>\n",
       "      <th>3</th>\n",
       "      <td>6</td>\n",
       "      <td>NaN</td>\n",
       "      <td>NaN</td>\n",
       "      <td>13,000 people receive #wildfires evacuation or...</td>\n",
       "      <td>1</td>\n",
       "      <td>[peopl, receiv, wildfir, evacu, order, califor...</td>\n",
       "      <td>peopl receiv wildfir evacu order california</td>\n",
       "    </tr>\n",
       "    <tr>\n",
       "      <th>4</th>\n",
       "      <td>7</td>\n",
       "      <td>NaN</td>\n",
       "      <td>NaN</td>\n",
       "      <td>Just got sent this photo from Ruby #Alaska as ...</td>\n",
       "      <td>1</td>\n",
       "      <td>[got, sent, photo, rubi, alaska, smoke, wildfi...</td>\n",
       "      <td>got sent photo rubi alaska smoke wildfir pour ...</td>\n",
       "    </tr>\n",
       "    <tr>\n",
       "      <th>...</th>\n",
       "      <td>...</td>\n",
       "      <td>...</td>\n",
       "      <td>...</td>\n",
       "      <td>...</td>\n",
       "      <td>...</td>\n",
       "      <td>...</td>\n",
       "      <td>...</td>\n",
       "    </tr>\n",
       "    <tr>\n",
       "      <th>7608</th>\n",
       "      <td>10869</td>\n",
       "      <td>NaN</td>\n",
       "      <td>NaN</td>\n",
       "      <td>Two giant cranes holding a bridge collapse int...</td>\n",
       "      <td>1</td>\n",
       "      <td>[two, giant, crane, hold, bridg, collaps, near...</td>\n",
       "      <td>two giant crane hold bridg collaps nearbi home</td>\n",
       "    </tr>\n",
       "    <tr>\n",
       "      <th>7609</th>\n",
       "      <td>10870</td>\n",
       "      <td>NaN</td>\n",
       "      <td>NaN</td>\n",
       "      <td>@aria_ahrary @TheTawniest The out of control w...</td>\n",
       "      <td>1</td>\n",
       "      <td>[aria, ahrari, thetawniest, control, wild, fir...</td>\n",
       "      <td>aria ahrari thetawniest control wild fire cali...</td>\n",
       "    </tr>\n",
       "    <tr>\n",
       "      <th>7610</th>\n",
       "      <td>10871</td>\n",
       "      <td>NaN</td>\n",
       "      <td>NaN</td>\n",
       "      <td>M1.94 [01:04 UTC]?5km S of Volcano Hawaii. htt...</td>\n",
       "      <td>1</td>\n",
       "      <td>[utc, km, volcano, hawaii]</td>\n",
       "      <td>utc km volcano hawaii</td>\n",
       "    </tr>\n",
       "    <tr>\n",
       "      <th>7611</th>\n",
       "      <td>10872</td>\n",
       "      <td>NaN</td>\n",
       "      <td>NaN</td>\n",
       "      <td>Police investigating after an e-bike collided ...</td>\n",
       "      <td>1</td>\n",
       "      <td>[polic, investig, e, bike, collid, car, littl,...</td>\n",
       "      <td>polic investig e bike collid car littl portug ...</td>\n",
       "    </tr>\n",
       "    <tr>\n",
       "      <th>7612</th>\n",
       "      <td>10873</td>\n",
       "      <td>NaN</td>\n",
       "      <td>NaN</td>\n",
       "      <td>The Latest: More Homes Razed by Northern Calif...</td>\n",
       "      <td>1</td>\n",
       "      <td>[latest, home, raze, northern, california, wil...</td>\n",
       "      <td>latest home raze northern california wildfir a...</td>\n",
       "    </tr>\n",
       "  </tbody>\n",
       "</table>\n",
       "<p>7613 rows × 7 columns</p>\n",
       "</div>"
      ],
      "text/plain": [
       "         id keyword location  \\\n",
       "0         1     NaN      NaN   \n",
       "1         4     NaN      NaN   \n",
       "2         5     NaN      NaN   \n",
       "3         6     NaN      NaN   \n",
       "4         7     NaN      NaN   \n",
       "...     ...     ...      ...   \n",
       "7608  10869     NaN      NaN   \n",
       "7609  10870     NaN      NaN   \n",
       "7610  10871     NaN      NaN   \n",
       "7611  10872     NaN      NaN   \n",
       "7612  10873     NaN      NaN   \n",
       "\n",
       "                                                   text  target  \\\n",
       "0     Our Deeds are the Reason of this #earthquake M...       1   \n",
       "1                Forest fire near La Ronge Sask. Canada       1   \n",
       "2     All residents asked to 'shelter in place' are ...       1   \n",
       "3     13,000 people receive #wildfires evacuation or...       1   \n",
       "4     Just got sent this photo from Ruby #Alaska as ...       1   \n",
       "...                                                 ...     ...   \n",
       "7608  Two giant cranes holding a bridge collapse int...       1   \n",
       "7609  @aria_ahrary @TheTawniest The out of control w...       1   \n",
       "7610  M1.94 [01:04 UTC]?5km S of Volcano Hawaii. htt...       1   \n",
       "7611  Police investigating after an e-bike collided ...       1   \n",
       "7612  The Latest: More Homes Razed by Northern Calif...       1   \n",
       "\n",
       "                                 Processed Tweet(array)  \\\n",
       "0     [deed, reason, earthquak, may, allah, forgiv, us]   \n",
       "1          [forest, fire, near, la, rong, sask, canada]   \n",
       "2     [resid, ask, shelter, place, notifi, offic, ev...   \n",
       "3     [peopl, receiv, wildfir, evacu, order, califor...   \n",
       "4     [got, sent, photo, rubi, alaska, smoke, wildfi...   \n",
       "...                                                 ...   \n",
       "7608  [two, giant, crane, hold, bridg, collaps, near...   \n",
       "7609  [aria, ahrari, thetawniest, control, wild, fir...   \n",
       "7610                         [utc, km, volcano, hawaii]   \n",
       "7611  [polic, investig, e, bike, collid, car, littl,...   \n",
       "7612  [latest, home, raze, northern, california, wil...   \n",
       "\n",
       "                                     Cleaned(not array)  \n",
       "0             deed reason earthquak may allah forgiv us  \n",
       "1                  forest fire near la rong sask canada  \n",
       "2     resid ask shelter place notifi offic evacu she...  \n",
       "3           peopl receiv wildfir evacu order california  \n",
       "4     got sent photo rubi alaska smoke wildfir pour ...  \n",
       "...                                                 ...  \n",
       "7608     two giant crane hold bridg collaps nearbi home  \n",
       "7609  aria ahrari thetawniest control wild fire cali...  \n",
       "7610                              utc km volcano hawaii  \n",
       "7611  polic investig e bike collid car littl portug ...  \n",
       "7612  latest home raze northern california wildfir a...  \n",
       "\n",
       "[7613 rows x 7 columns]"
      ]
     },
     "execution_count": 11,
     "metadata": {},
     "output_type": "execute_result"
    }
   ],
   "source": [
    "df"
   ]
  },
  {
   "cell_type": "markdown",
   "id": "015807eb",
   "metadata": {},
   "source": [
    "### Data Skewness"
   ]
  },
  {
   "cell_type": "code",
   "execution_count": 12,
   "id": "32b8894e",
   "metadata": {},
   "outputs": [
    {
     "data": {
      "text/plain": [
       "<AxesSubplot:>"
      ]
     },
     "execution_count": 12,
     "metadata": {},
     "output_type": "execute_result"
    },
    {
     "data": {
      "image/png": "[encoded data removed]",
      "text/plain": [
       "<Figure size 640x480 with 1 Axes>"
      ]
     },
     "metadata": {},
     "output_type": "display_data"
    }
   ],
   "source": [
    "df['target'].value_counts().plot(kind= 'bar')"
   ]
  },
  {
   "cell_type": "markdown",
   "id": "1759ddf2",
   "metadata": {},
   "source": [
    "Data is balanced not much difference in count we can work on it without changing length"
   ]
  },
  {
   "cell_type": "markdown",
   "id": "c1f7e331",
   "metadata": {},
   "source": [
    "### Sneek peek of what we have done so far"
   ]
  },
  {
   "cell_type": "code",
   "execution_count": 19,
   "id": "d3d4591d",
   "metadata": {},
   "outputs": [],
   "source": [
    "train_data = df['text']\n",
    "test_data = test['text']"
   ]
  },
  {
   "cell_type": "code",
   "execution_count": 14,
   "id": "3055f2db",
   "metadata": {},
   "outputs": [
    {
     "name": "stdout",
     "output_type": "stream",
     "text": [
      "Actual tweet is\n",
      " Deputies: Man shot before Brighton home set ablaze http://t.co/gWNRhMSO8k\n",
      "\n",
      "Processed Tweet\n",
      " ['deputi', 'man', 'shot', 'brighton', 'home', 'set', 'ablaz']\n",
      "\n",
      "Tensor of tweet:\n",
      " [215, 98, 216, 217, 218, 134, 124]\n"
     ]
    }
   ],
   "source": [
    "print(\"Actual tweet is\\n\", train_data[50])\n",
    "print('\\nProcessed Tweet\\n', process_tweet(train_data[50]))\n",
    "print(\"\\nTensor of tweet:\\n\", tweet_to_tensor(train_data[50], vocab_dict=Vocab))"
   ]
  },
  {
   "cell_type": "markdown",
   "id": "73b112dd",
   "metadata": {},
   "source": [
    "# Pre Processing"
   ]
  },
  {
   "cell_type": "markdown",
   "id": "446fef28",
   "metadata": {},
   "source": [
    "### Building Tensors of Data Sets"
   ]
  },
  {
   "cell_type": "code",
   "execution_count": 21,
   "id": "3b8558fb",
   "metadata": {
    "scrolled": true
   },
   "outputs": [],
   "source": [
    "tensorr_train=[]\n",
    "tensorr_test=[]\n",
    "def build_tensor(data):\n",
    "    a=[]\n",
    "    for j in range(0,len(data)):\n",
    "        a.append(tweet_to_tensor(data[j], vocab_dict=Vocab))\n",
    "    return a"
   ]
  },
  {
   "cell_type": "code",
   "execution_count": 22,
   "id": "ddcc34b1",
   "metadata": {},
   "outputs": [],
   "source": [
    "tensorr_train= build_tensor(train_data)"
   ]
  },
  {
   "cell_type": "code",
   "execution_count": 23,
   "id": "e64e39e6",
   "metadata": {},
   "outputs": [],
   "source": [
    "tensorr_test = build_tensor(test_data)\n"
   ]
  },
  {
   "cell_type": "markdown",
   "id": "582ce7d0",
   "metadata": {},
   "source": [
    "## Padding "
   ]
  },
  {
   "cell_type": "markdown",
   "id": "23db6d0d",
   "metadata": {},
   "source": [
    "In modeling, Model train on fixed number of inputs but as we can see above tweets are not of same length so tensors.\n",
    "\n",
    "To overcome this issue we select the tweet with highest length and use the length as standrized length.\n",
    "\n",
    "If tweet is shorter than strandrized length than we fill it up with zeros\n",
    "#### Dsadvantage of Padding is we experience vanishing Gradien I will discussed more about later in this note book"
   ]
  },
  {
   "cell_type": "code",
   "execution_count": 25,
   "id": "74b3905f",
   "metadata": {},
   "outputs": [],
   "source": [
    "#def padding(tensors):\n",
    "def pad_data(data):\n",
    "    max_len = max([len(t) for t in data]) \n",
    "    max_len\n",
    "    tensor_pad_l = []\n",
    "        # Pad shorter tweets with zeros\n",
    "    for tensor in data:\n",
    "\n",
    "\n",
    "        ### START CODE HERE (Replace instances of 'None' with your code) ###\n",
    "            # Get the number of positions to pad for this tensor so that it will be max_len long\n",
    "        n_pad = max_len- len(tensor)\n",
    "            \n",
    "            # Generate a list of zeros, with length n_pad\n",
    "        pad_l =  [0]*n_pad\n",
    "            \n",
    "            # concatenate the tensor and the list of padded zeros\n",
    "        tensor_pad = tensor + pad_l\n",
    "            \n",
    "            # append the padded tensor to the list of padded tensors\n",
    "        tensor_pad_l.append(tensor_pad)\n",
    "\n",
    "        # convert the list of padded tensors to a numpy array\n",
    "        # and store this as the model inputs\n",
    "    padded =  np.array(tensor_pad_l)\n",
    "    return padded"
   ]
  },
  {
   "cell_type": "code",
   "execution_count": 26,
   "id": "45d07b1a",
   "metadata": {},
   "outputs": [
    {
     "data": {
      "text/plain": [
       "array([[    3,     4,     5, ...,     0,     0,     0],\n",
       "       [   10,    11,    12, ...,     0,     0,     0],\n",
       "       [   17,    18,    19, ...,     0,     0,     0],\n",
       "       ...,\n",
       "       [ 7037,  5040,  3993, ...,     0,     0,     0],\n",
       "       [  164,  3299,  2957, ...,     0,     0,     0],\n",
       "       [ 1157,   218, 10385, ...,     0,     0,     0]])"
      ]
     },
     "execution_count": 26,
     "metadata": {},
     "output_type": "execute_result"
    }
   ],
   "source": [
    "train_pad=pad_data(tensorr_train)\n",
    "train_pad"
   ]
  },
  {
   "cell_type": "code",
   "execution_count": 27,
   "id": "bc9d0805",
   "metadata": {},
   "outputs": [
    {
     "data": {
      "text/plain": [
       "array([[  63,  724,   95, ...,    0,    0,    0],\n",
       "       [ 478,    5, 3722, ...,    0,    0,    0],\n",
       "       [  10,   11, 3187, ...,    0,    0,    0],\n",
       "       ...,\n",
       "       [1565, 2495, 4103, ...,    0,    0,    0],\n",
       "       [8762,  483, 3696, ...,    0,    0,    0],\n",
       "       [7279, 2164, 7272, ...,    0,    0,    0]])"
      ]
     },
     "execution_count": 27,
     "metadata": {},
     "output_type": "execute_result"
    }
   ],
   "source": [
    "test_pad=pad_data(tensorr_test)\n",
    "test_pad"
   ]
  },
  {
   "cell_type": "code",
   "execution_count": 28,
   "id": "291bc890",
   "metadata": {},
   "outputs": [
    {
     "data": {
      "text/plain": [
       "(3263, 24)"
      ]
     },
     "execution_count": 28,
     "metadata": {},
     "output_type": "execute_result"
    }
   ],
   "source": [
    "test_pad.shape"
   ]
  },
  {
   "cell_type": "code",
   "execution_count": 29,
   "id": "6f1ae729",
   "metadata": {},
   "outputs": [
    {
     "data": {
      "text/plain": [
       "(7613, 25)"
      ]
     },
     "execution_count": 29,
     "metadata": {},
     "output_type": "execute_result"
    }
   ],
   "source": [
    "train_pad.shape"
   ]
  },
  {
   "cell_type": "markdown",
   "id": "10157b86",
   "metadata": {},
   "source": [
    "One column is more than in train and there is only one sentence upto this so droping it"
   ]
  },
  {
   "cell_type": "code",
   "execution_count": 30,
   "id": "188e29f9",
   "metadata": {},
   "outputs": [],
   "source": [
    "train_pad= pd.DataFrame(train_pad)\n",
    "train_pad=train_pad.drop([24], axis = 1)"
   ]
  },
  {
   "cell_type": "code",
   "execution_count": 31,
   "id": "3b25dc6e",
   "metadata": {},
   "outputs": [
    {
     "data": {
      "text/html": [
       "<div>\n",
       "<style scoped>\n",
       "    .dataframe tbody tr th:only-of-type {\n",
       "        vertical-align: middle;\n",
       "    }\n",
       "\n",
       "    .dataframe tbody tr th {\n",
       "        vertical-align: top;\n",
       "    }\n",
       "\n",
       "    .dataframe thead th {\n",
       "        text-align: right;\n",
       "    }\n",
       "</style>\n",
       "<table border=\"1\" class=\"dataframe\">\n",
       "  <thead>\n",
       "    <tr style=\"text-align: right;\">\n",
       "      <th></th>\n",
       "      <th>0</th>\n",
       "      <th>1</th>\n",
       "      <th>2</th>\n",
       "      <th>3</th>\n",
       "      <th>4</th>\n",
       "      <th>5</th>\n",
       "      <th>6</th>\n",
       "      <th>7</th>\n",
       "      <th>8</th>\n",
       "      <th>9</th>\n",
       "      <th>...</th>\n",
       "      <th>14</th>\n",
       "      <th>15</th>\n",
       "      <th>16</th>\n",
       "      <th>17</th>\n",
       "      <th>18</th>\n",
       "      <th>19</th>\n",
       "      <th>20</th>\n",
       "      <th>21</th>\n",
       "      <th>22</th>\n",
       "      <th>23</th>\n",
       "    </tr>\n",
       "  </thead>\n",
       "  <tbody>\n",
       "    <tr>\n",
       "      <th>0</th>\n",
       "      <td>3</td>\n",
       "      <td>4</td>\n",
       "      <td>5</td>\n",
       "      <td>6</td>\n",
       "      <td>7</td>\n",
       "      <td>8</td>\n",
       "      <td>9</td>\n",
       "      <td>0</td>\n",
       "      <td>0</td>\n",
       "      <td>0</td>\n",
       "      <td>...</td>\n",
       "      <td>0</td>\n",
       "      <td>0</td>\n",
       "      <td>0</td>\n",
       "      <td>0</td>\n",
       "      <td>0</td>\n",
       "      <td>0</td>\n",
       "      <td>0</td>\n",
       "      <td>0</td>\n",
       "      <td>0</td>\n",
       "      <td>0</td>\n",
       "    </tr>\n",
       "    <tr>\n",
       "      <th>1</th>\n",
       "      <td>10</td>\n",
       "      <td>11</td>\n",
       "      <td>12</td>\n",
       "      <td>13</td>\n",
       "      <td>14</td>\n",
       "      <td>15</td>\n",
       "      <td>16</td>\n",
       "      <td>0</td>\n",
       "      <td>0</td>\n",
       "      <td>0</td>\n",
       "      <td>...</td>\n",
       "      <td>0</td>\n",
       "      <td>0</td>\n",
       "      <td>0</td>\n",
       "      <td>0</td>\n",
       "      <td>0</td>\n",
       "      <td>0</td>\n",
       "      <td>0</td>\n",
       "      <td>0</td>\n",
       "      <td>0</td>\n",
       "      <td>0</td>\n",
       "    </tr>\n",
       "    <tr>\n",
       "      <th>2</th>\n",
       "      <td>17</td>\n",
       "      <td>18</td>\n",
       "      <td>19</td>\n",
       "      <td>20</td>\n",
       "      <td>21</td>\n",
       "      <td>22</td>\n",
       "      <td>23</td>\n",
       "      <td>19</td>\n",
       "      <td>20</td>\n",
       "      <td>24</td>\n",
       "      <td>...</td>\n",
       "      <td>0</td>\n",
       "      <td>0</td>\n",
       "      <td>0</td>\n",
       "      <td>0</td>\n",
       "      <td>0</td>\n",
       "      <td>0</td>\n",
       "      <td>0</td>\n",
       "      <td>0</td>\n",
       "      <td>0</td>\n",
       "      <td>0</td>\n",
       "    </tr>\n",
       "    <tr>\n",
       "      <th>3</th>\n",
       "      <td>26</td>\n",
       "      <td>27</td>\n",
       "      <td>28</td>\n",
       "      <td>23</td>\n",
       "      <td>24</td>\n",
       "      <td>29</td>\n",
       "      <td>0</td>\n",
       "      <td>0</td>\n",
       "      <td>0</td>\n",
       "      <td>0</td>\n",
       "      <td>...</td>\n",
       "      <td>0</td>\n",
       "      <td>0</td>\n",
       "      <td>0</td>\n",
       "      <td>0</td>\n",
       "      <td>0</td>\n",
       "      <td>0</td>\n",
       "      <td>0</td>\n",
       "      <td>0</td>\n",
       "      <td>0</td>\n",
       "      <td>0</td>\n",
       "    </tr>\n",
       "    <tr>\n",
       "      <th>4</th>\n",
       "      <td>30</td>\n",
       "      <td>31</td>\n",
       "      <td>32</td>\n",
       "      <td>33</td>\n",
       "      <td>34</td>\n",
       "      <td>35</td>\n",
       "      <td>28</td>\n",
       "      <td>36</td>\n",
       "      <td>37</td>\n",
       "      <td>0</td>\n",
       "      <td>...</td>\n",
       "      <td>0</td>\n",
       "      <td>0</td>\n",
       "      <td>0</td>\n",
       "      <td>0</td>\n",
       "      <td>0</td>\n",
       "      <td>0</td>\n",
       "      <td>0</td>\n",
       "      <td>0</td>\n",
       "      <td>0</td>\n",
       "      <td>0</td>\n",
       "    </tr>\n",
       "    <tr>\n",
       "      <th>...</th>\n",
       "      <td>...</td>\n",
       "      <td>...</td>\n",
       "      <td>...</td>\n",
       "      <td>...</td>\n",
       "      <td>...</td>\n",
       "      <td>...</td>\n",
       "      <td>...</td>\n",
       "      <td>...</td>\n",
       "      <td>...</td>\n",
       "      <td>...</td>\n",
       "      <td>...</td>\n",
       "      <td>...</td>\n",
       "      <td>...</td>\n",
       "      <td>...</td>\n",
       "      <td>...</td>\n",
       "      <td>...</td>\n",
       "      <td>...</td>\n",
       "      <td>...</td>\n",
       "      <td>...</td>\n",
       "      <td>...</td>\n",
       "      <td>...</td>\n",
       "    </tr>\n",
       "    <tr>\n",
       "      <th>7608</th>\n",
       "      <td>158</td>\n",
       "      <td>3267</td>\n",
       "      <td>3564</td>\n",
       "      <td>2017</td>\n",
       "      <td>3538</td>\n",
       "      <td>1333</td>\n",
       "      <td>3565</td>\n",
       "      <td>218</td>\n",
       "      <td>0</td>\n",
       "      <td>0</td>\n",
       "      <td>...</td>\n",
       "      <td>0</td>\n",
       "      <td>0</td>\n",
       "      <td>0</td>\n",
       "      <td>0</td>\n",
       "      <td>0</td>\n",
       "      <td>0</td>\n",
       "      <td>0</td>\n",
       "      <td>0</td>\n",
       "      <td>0</td>\n",
       "      <td>0</td>\n",
       "    </tr>\n",
       "    <tr>\n",
       "      <th>7609</th>\n",
       "      <td>12307</td>\n",
       "      <td>12308</td>\n",
       "      <td>12309</td>\n",
       "      <td>1423</td>\n",
       "      <td>1018</td>\n",
       "      <td>11</td>\n",
       "      <td>29</td>\n",
       "      <td>467</td>\n",
       "      <td>1447</td>\n",
       "      <td>1330</td>\n",
       "      <td>...</td>\n",
       "      <td>0</td>\n",
       "      <td>0</td>\n",
       "      <td>0</td>\n",
       "      <td>0</td>\n",
       "      <td>0</td>\n",
       "      <td>0</td>\n",
       "      <td>0</td>\n",
       "      <td>0</td>\n",
       "      <td>0</td>\n",
       "      <td>0</td>\n",
       "    </tr>\n",
       "    <tr>\n",
       "      <th>7610</th>\n",
       "      <td>7037</td>\n",
       "      <td>5040</td>\n",
       "      <td>3993</td>\n",
       "      <td>7066</td>\n",
       "      <td>0</td>\n",
       "      <td>0</td>\n",
       "      <td>0</td>\n",
       "      <td>0</td>\n",
       "      <td>0</td>\n",
       "      <td>0</td>\n",
       "      <td>...</td>\n",
       "      <td>0</td>\n",
       "      <td>0</td>\n",
       "      <td>0</td>\n",
       "      <td>0</td>\n",
       "      <td>0</td>\n",
       "      <td>0</td>\n",
       "      <td>0</td>\n",
       "      <td>0</td>\n",
       "      <td>0</td>\n",
       "      <td>0</td>\n",
       "    </tr>\n",
       "    <tr>\n",
       "      <th>7611</th>\n",
       "      <td>164</td>\n",
       "      <td>3299</td>\n",
       "      <td>2957</td>\n",
       "      <td>3839</td>\n",
       "      <td>4599</td>\n",
       "      <td>95</td>\n",
       "      <td>712</td>\n",
       "      <td>4682</td>\n",
       "      <td>2957</td>\n",
       "      <td>3839</td>\n",
       "      <td>...</td>\n",
       "      <td>201</td>\n",
       "      <td>3634</td>\n",
       "      <td>434</td>\n",
       "      <td>0</td>\n",
       "      <td>0</td>\n",
       "      <td>0</td>\n",
       "      <td>0</td>\n",
       "      <td>0</td>\n",
       "      <td>0</td>\n",
       "      <td>0</td>\n",
       "    </tr>\n",
       "    <tr>\n",
       "      <th>7612</th>\n",
       "      <td>1157</td>\n",
       "      <td>218</td>\n",
       "      <td>10385</td>\n",
       "      <td>1447</td>\n",
       "      <td>29</td>\n",
       "      <td>28</td>\n",
       "      <td>2150</td>\n",
       "      <td>131</td>\n",
       "      <td>0</td>\n",
       "      <td>0</td>\n",
       "      <td>...</td>\n",
       "      <td>0</td>\n",
       "      <td>0</td>\n",
       "      <td>0</td>\n",
       "      <td>0</td>\n",
       "      <td>0</td>\n",
       "      <td>0</td>\n",
       "      <td>0</td>\n",
       "      <td>0</td>\n",
       "      <td>0</td>\n",
       "      <td>0</td>\n",
       "    </tr>\n",
       "  </tbody>\n",
       "</table>\n",
       "<p>7613 rows × 24 columns</p>\n",
       "</div>"
      ],
      "text/plain": [
       "         0      1      2     3     4     5     6     7     8     9   ...   14  \\\n",
       "0         3      4      5     6     7     8     9     0     0     0  ...    0   \n",
       "1        10     11     12    13    14    15    16     0     0     0  ...    0   \n",
       "2        17     18     19    20    21    22    23    19    20    24  ...    0   \n",
       "3        26     27     28    23    24    29     0     0     0     0  ...    0   \n",
       "4        30     31     32    33    34    35    28    36    37     0  ...    0   \n",
       "...     ...    ...    ...   ...   ...   ...   ...   ...   ...   ...  ...  ...   \n",
       "7608    158   3267   3564  2017  3538  1333  3565   218     0     0  ...    0   \n",
       "7609  12307  12308  12309  1423  1018    11    29   467  1447  1330  ...    0   \n",
       "7610   7037   5040   3993  7066     0     0     0     0     0     0  ...    0   \n",
       "7611    164   3299   2957  3839  4599    95   712  4682  2957  3839  ...  201   \n",
       "7612   1157    218  10385  1447    29    28  2150   131     0     0  ...    0   \n",
       "\n",
       "        15   16  17  18  19  20  21  22  23  \n",
       "0        0    0   0   0   0   0   0   0   0  \n",
       "1        0    0   0   0   0   0   0   0   0  \n",
       "2        0    0   0   0   0   0   0   0   0  \n",
       "3        0    0   0   0   0   0   0   0   0  \n",
       "4        0    0   0   0   0   0   0   0   0  \n",
       "...    ...  ...  ..  ..  ..  ..  ..  ..  ..  \n",
       "7608     0    0   0   0   0   0   0   0   0  \n",
       "7609     0    0   0   0   0   0   0   0   0  \n",
       "7610     0    0   0   0   0   0   0   0   0  \n",
       "7611  3634  434   0   0   0   0   0   0   0  \n",
       "7612     0    0   0   0   0   0   0   0   0  \n",
       "\n",
       "[7613 rows x 24 columns]"
      ]
     },
     "execution_count": 31,
     "metadata": {},
     "output_type": "execute_result"
    }
   ],
   "source": [
    "train_pad"
   ]
  },
  {
   "cell_type": "code",
   "execution_count": 32,
   "id": "ae0b9f96",
   "metadata": {},
   "outputs": [],
   "source": [
    "test_pad= pd.DataFrame(test_pad)"
   ]
  },
  {
   "cell_type": "code",
   "execution_count": 33,
   "id": "c367405a",
   "metadata": {},
   "outputs": [
    {
     "data": {
      "text/html": [
       "<div>\n",
       "<style scoped>\n",
       "    .dataframe tbody tr th:only-of-type {\n",
       "        vertical-align: middle;\n",
       "    }\n",
       "\n",
       "    .dataframe tbody tr th {\n",
       "        vertical-align: top;\n",
       "    }\n",
       "\n",
       "    .dataframe thead th {\n",
       "        text-align: right;\n",
       "    }\n",
       "</style>\n",
       "<table border=\"1\" class=\"dataframe\">\n",
       "  <thead>\n",
       "    <tr style=\"text-align: right;\">\n",
       "      <th></th>\n",
       "      <th>0</th>\n",
       "      <th>1</th>\n",
       "      <th>2</th>\n",
       "      <th>3</th>\n",
       "      <th>4</th>\n",
       "      <th>5</th>\n",
       "      <th>6</th>\n",
       "      <th>7</th>\n",
       "      <th>8</th>\n",
       "      <th>9</th>\n",
       "      <th>...</th>\n",
       "      <th>14</th>\n",
       "      <th>15</th>\n",
       "      <th>16</th>\n",
       "      <th>17</th>\n",
       "      <th>18</th>\n",
       "      <th>19</th>\n",
       "      <th>20</th>\n",
       "      <th>21</th>\n",
       "      <th>22</th>\n",
       "      <th>23</th>\n",
       "    </tr>\n",
       "  </thead>\n",
       "  <tbody>\n",
       "    <tr>\n",
       "      <th>0</th>\n",
       "      <td>63</td>\n",
       "      <td>724</td>\n",
       "      <td>95</td>\n",
       "      <td>96</td>\n",
       "      <td>0</td>\n",
       "      <td>0</td>\n",
       "      <td>0</td>\n",
       "      <td>0</td>\n",
       "      <td>0</td>\n",
       "      <td>0</td>\n",
       "      <td>...</td>\n",
       "      <td>0</td>\n",
       "      <td>0</td>\n",
       "      <td>0</td>\n",
       "      <td>0</td>\n",
       "      <td>0</td>\n",
       "      <td>0</td>\n",
       "      <td>0</td>\n",
       "      <td>0</td>\n",
       "      <td>0</td>\n",
       "      <td>0</td>\n",
       "    </tr>\n",
       "    <tr>\n",
       "      <th>1</th>\n",
       "      <td>478</td>\n",
       "      <td>5</td>\n",
       "      <td>3722</td>\n",
       "      <td>259</td>\n",
       "      <td>1584</td>\n",
       "      <td>3992</td>\n",
       "      <td>423</td>\n",
       "      <td>0</td>\n",
       "      <td>0</td>\n",
       "      <td>0</td>\n",
       "      <td>...</td>\n",
       "      <td>0</td>\n",
       "      <td>0</td>\n",
       "      <td>0</td>\n",
       "      <td>0</td>\n",
       "      <td>0</td>\n",
       "      <td>0</td>\n",
       "      <td>0</td>\n",
       "      <td>0</td>\n",
       "      <td>0</td>\n",
       "      <td>0</td>\n",
       "    </tr>\n",
       "    <tr>\n",
       "      <th>2</th>\n",
       "      <td>10</td>\n",
       "      <td>11</td>\n",
       "      <td>3187</td>\n",
       "      <td>10872</td>\n",
       "      <td>2</td>\n",
       "      <td>3470</td>\n",
       "      <td>65</td>\n",
       "      <td>53</td>\n",
       "      <td>595</td>\n",
       "      <td>1031</td>\n",
       "      <td>...</td>\n",
       "      <td>0</td>\n",
       "      <td>0</td>\n",
       "      <td>0</td>\n",
       "      <td>0</td>\n",
       "      <td>0</td>\n",
       "      <td>0</td>\n",
       "      <td>0</td>\n",
       "      <td>0</td>\n",
       "      <td>0</td>\n",
       "      <td>0</td>\n",
       "    </tr>\n",
       "    <tr>\n",
       "      <th>3</th>\n",
       "      <td>1084</td>\n",
       "      <td>1338</td>\n",
       "      <td>1431</td>\n",
       "      <td>28</td>\n",
       "      <td>0</td>\n",
       "      <td>0</td>\n",
       "      <td>0</td>\n",
       "      <td>0</td>\n",
       "      <td>0</td>\n",
       "      <td>0</td>\n",
       "      <td>...</td>\n",
       "      <td>0</td>\n",
       "      <td>0</td>\n",
       "      <td>0</td>\n",
       "      <td>0</td>\n",
       "      <td>0</td>\n",
       "      <td>0</td>\n",
       "      <td>0</td>\n",
       "      <td>0</td>\n",
       "      <td>0</td>\n",
       "      <td>0</td>\n",
       "    </tr>\n",
       "    <tr>\n",
       "      <th>4</th>\n",
       "      <td>5177</td>\n",
       "      <td>5179</td>\n",
       "      <td>475</td>\n",
       "      <td>4417</td>\n",
       "      <td>5478</td>\n",
       "      <td>0</td>\n",
       "      <td>0</td>\n",
       "      <td>0</td>\n",
       "      <td>0</td>\n",
       "      <td>0</td>\n",
       "      <td>...</td>\n",
       "      <td>0</td>\n",
       "      <td>0</td>\n",
       "      <td>0</td>\n",
       "      <td>0</td>\n",
       "      <td>0</td>\n",
       "      <td>0</td>\n",
       "      <td>0</td>\n",
       "      <td>0</td>\n",
       "      <td>0</td>\n",
       "      <td>0</td>\n",
       "    </tr>\n",
       "    <tr>\n",
       "      <th>...</th>\n",
       "      <td>...</td>\n",
       "      <td>...</td>\n",
       "      <td>...</td>\n",
       "      <td>...</td>\n",
       "      <td>...</td>\n",
       "      <td>...</td>\n",
       "      <td>...</td>\n",
       "      <td>...</td>\n",
       "      <td>...</td>\n",
       "      <td>...</td>\n",
       "      <td>...</td>\n",
       "      <td>...</td>\n",
       "      <td>...</td>\n",
       "      <td>...</td>\n",
       "      <td>...</td>\n",
       "      <td>...</td>\n",
       "      <td>...</td>\n",
       "      <td>...</td>\n",
       "      <td>...</td>\n",
       "      <td>...</td>\n",
       "      <td>...</td>\n",
       "    </tr>\n",
       "    <tr>\n",
       "      <th>3258</th>\n",
       "      <td>5</td>\n",
       "      <td>881</td>\n",
       "      <td>266</td>\n",
       "      <td>267</td>\n",
       "      <td>881</td>\n",
       "      <td>2</td>\n",
       "      <td>2</td>\n",
       "      <td>0</td>\n",
       "      <td>0</td>\n",
       "      <td>0</td>\n",
       "      <td>...</td>\n",
       "      <td>0</td>\n",
       "      <td>0</td>\n",
       "      <td>0</td>\n",
       "      <td>0</td>\n",
       "      <td>0</td>\n",
       "      <td>0</td>\n",
       "      <td>0</td>\n",
       "      <td>0</td>\n",
       "      <td>0</td>\n",
       "      <td>0</td>\n",
       "    </tr>\n",
       "    <tr>\n",
       "      <th>3259</th>\n",
       "      <td>1155</td>\n",
       "      <td>3481</td>\n",
       "      <td>3482</td>\n",
       "      <td>114</td>\n",
       "      <td>3483</td>\n",
       "      <td>259</td>\n",
       "      <td>292</td>\n",
       "      <td>247</td>\n",
       "      <td>3484</td>\n",
       "      <td>882</td>\n",
       "      <td>...</td>\n",
       "      <td>147</td>\n",
       "      <td>295</td>\n",
       "      <td>477</td>\n",
       "      <td>1034</td>\n",
       "      <td>1904</td>\n",
       "      <td>0</td>\n",
       "      <td>0</td>\n",
       "      <td>0</td>\n",
       "      <td>0</td>\n",
       "      <td>0</td>\n",
       "    </tr>\n",
       "    <tr>\n",
       "      <th>3260</th>\n",
       "      <td>1565</td>\n",
       "      <td>2495</td>\n",
       "      <td>4103</td>\n",
       "      <td>187</td>\n",
       "      <td>0</td>\n",
       "      <td>0</td>\n",
       "      <td>0</td>\n",
       "      <td>0</td>\n",
       "      <td>0</td>\n",
       "      <td>0</td>\n",
       "      <td>...</td>\n",
       "      <td>0</td>\n",
       "      <td>0</td>\n",
       "      <td>0</td>\n",
       "      <td>0</td>\n",
       "      <td>0</td>\n",
       "      <td>0</td>\n",
       "      <td>0</td>\n",
       "      <td>0</td>\n",
       "      <td>0</td>\n",
       "      <td>0</td>\n",
       "    </tr>\n",
       "    <tr>\n",
       "      <th>3261</th>\n",
       "      <td>8762</td>\n",
       "      <td>483</td>\n",
       "      <td>3696</td>\n",
       "      <td>925</td>\n",
       "      <td>8744</td>\n",
       "      <td>8745</td>\n",
       "      <td>0</td>\n",
       "      <td>0</td>\n",
       "      <td>0</td>\n",
       "      <td>0</td>\n",
       "      <td>...</td>\n",
       "      <td>0</td>\n",
       "      <td>0</td>\n",
       "      <td>0</td>\n",
       "      <td>0</td>\n",
       "      <td>0</td>\n",
       "      <td>0</td>\n",
       "      <td>0</td>\n",
       "      <td>0</td>\n",
       "      <td>0</td>\n",
       "      <td>0</td>\n",
       "    </tr>\n",
       "    <tr>\n",
       "      <th>3262</th>\n",
       "      <td>7279</td>\n",
       "      <td>2164</td>\n",
       "      <td>7272</td>\n",
       "      <td>62</td>\n",
       "      <td>457</td>\n",
       "      <td>8576</td>\n",
       "      <td>0</td>\n",
       "      <td>0</td>\n",
       "      <td>0</td>\n",
       "      <td>0</td>\n",
       "      <td>...</td>\n",
       "      <td>0</td>\n",
       "      <td>0</td>\n",
       "      <td>0</td>\n",
       "      <td>0</td>\n",
       "      <td>0</td>\n",
       "      <td>0</td>\n",
       "      <td>0</td>\n",
       "      <td>0</td>\n",
       "      <td>0</td>\n",
       "      <td>0</td>\n",
       "    </tr>\n",
       "  </tbody>\n",
       "</table>\n",
       "<p>3263 rows × 24 columns</p>\n",
       "</div>"
      ],
      "text/plain": [
       "        0     1     2      3     4     5    6    7     8     9   ...   14  \\\n",
       "0       63   724    95     96     0     0    0    0     0     0  ...    0   \n",
       "1      478     5  3722    259  1584  3992  423    0     0     0  ...    0   \n",
       "2       10    11  3187  10872     2  3470   65   53   595  1031  ...    0   \n",
       "3     1084  1338  1431     28     0     0    0    0     0     0  ...    0   \n",
       "4     5177  5179   475   4417  5478     0    0    0     0     0  ...    0   \n",
       "...    ...   ...   ...    ...   ...   ...  ...  ...   ...   ...  ...  ...   \n",
       "3258     5   881   266    267   881     2    2    0     0     0  ...    0   \n",
       "3259  1155  3481  3482    114  3483   259  292  247  3484   882  ...  147   \n",
       "3260  1565  2495  4103    187     0     0    0    0     0     0  ...    0   \n",
       "3261  8762   483  3696    925  8744  8745    0    0     0     0  ...    0   \n",
       "3262  7279  2164  7272     62   457  8576    0    0     0     0  ...    0   \n",
       "\n",
       "       15   16    17    18  19  20  21  22  23  \n",
       "0       0    0     0     0   0   0   0   0   0  \n",
       "1       0    0     0     0   0   0   0   0   0  \n",
       "2       0    0     0     0   0   0   0   0   0  \n",
       "3       0    0     0     0   0   0   0   0   0  \n",
       "4       0    0     0     0   0   0   0   0   0  \n",
       "...   ...  ...   ...   ...  ..  ..  ..  ..  ..  \n",
       "3258    0    0     0     0   0   0   0   0   0  \n",
       "3259  295  477  1034  1904   0   0   0   0   0  \n",
       "3260    0    0     0     0   0   0   0   0   0  \n",
       "3261    0    0     0     0   0   0   0   0   0  \n",
       "3262    0    0     0     0   0   0   0   0   0  \n",
       "\n",
       "[3263 rows x 24 columns]"
      ]
     },
     "execution_count": 33,
     "metadata": {},
     "output_type": "execute_result"
    }
   ],
   "source": [
    "test_pad"
   ]
  },
  {
   "cell_type": "markdown",
   "id": "f68d2dc9",
   "metadata": {},
   "source": [
    "## Modelling"
   ]
  },
  {
   "cell_type": "markdown",
   "id": "a748c795",
   "metadata": {},
   "source": [
    " Using Sci-Kit Learn Libraries for Machine Learning"
   ]
  },
  {
   "cell_type": "code",
   "execution_count": 34,
   "id": "86008ead",
   "metadata": {},
   "outputs": [],
   "source": [
    "from sklearn.model_selection import train_test_split\n",
    "from sklearn.linear_model import LogisticRegression\n",
    "from sklearn.metrics import accuracy_score, confusion_matrix\n",
    "from sklearn.svm import SVC\n",
    "from sklearn.ensemble import RandomForestClassifier\n",
    "from sklearn.cluster import KMeans\n",
    "from sklearn.tree import DecisionTreeClassifier\n",
    "from sklearn.neighbors import KNeighborsClassifier\n",
    "from sklearn.preprocessing import normalize,StandardScaler"
   ]
  },
  {
   "cell_type": "markdown",
   "id": "69a1ec60",
   "metadata": {},
   "source": [
    "### Spliting Data Set"
   ]
  },
  {
   "cell_type": "code",
   "execution_count": 62,
   "id": "c3a098d8",
   "metadata": {},
   "outputs": [],
   "source": [
    "x_train,x_test,y_train,y_test = train_test_split(train_pad,df['target'], test_size = 0.25)"
   ]
  },
  {
   "cell_type": "markdown",
   "id": "5d661ece",
   "metadata": {},
   "source": [
    "### Building Objeccts of Models"
   ]
  },
  {
   "cell_type": "code",
   "execution_count": 36,
   "id": "2921d3a1",
   "metadata": {},
   "outputs": [],
   "source": [
    "log= LogisticRegression(penalty='l2')\n",
    "support = SVC()\n",
    "RF= RandomForestClassifier()\n",
    "DTC=DecisionTreeClassifier()\n",
    "Neg= KNeighborsClassifier()"
   ]
  },
  {
   "cell_type": "markdown",
   "id": "012b2a7d",
   "metadata": {},
   "source": [
    "### Funciton to train a model and computing accuracy"
   ]
  },
  {
   "cell_type": "code",
   "execution_count": 58,
   "id": "759201bc",
   "metadata": {},
   "outputs": [],
   "source": [
    "def modelling (model, datax,dataxt, datay, datayt):\n",
    "    model.fit(datax,datay)\n",
    "    ypred=model.predict(dataxt)\n",
    "    acc=accuracy_score(ypred, datayt)\n",
    "    print(acc)\n",
    "    print(confusion_matrix(ypred, datayt))\n",
    "    return acc"
   ]
  },
  {
   "cell_type": "markdown",
   "id": "b47b93bc",
   "metadata": {},
   "source": [
    "### Output of Modeling"
   ]
  },
  {
   "cell_type": "code",
   "execution_count": 63,
   "id": "64060c7c",
   "metadata": {},
   "outputs": [
    {
     "name": "stdout",
     "output_type": "stream",
     "text": [
      "Logistic Regression\n",
      "0.5656512605042017\n",
      "[[944 692]\n",
      " [135 133]]\n",
      "SVC\n"
     ]
    },
    {
     "name": "stderr",
     "output_type": "stream",
     "text": [
      "/Users/macbook/opt/anaconda3/lib/python3.9/site-packages/sklearn/linear_model/_logistic.py:814: ConvergenceWarning: lbfgs failed to converge (status=1):\n",
      "STOP: TOTAL NO. of ITERATIONS REACHED LIMIT.\n",
      "\n",
      "Increase the number of iterations (max_iter) or scale the data as shown in:\n",
      "    https://scikit-learn.org/stable/modules/preprocessing.html\n",
      "Please also refer to the documentation for alternative solver options:\n",
      "    https://scikit-learn.org/stable/modules/linear_model.html#logistic-regression\n",
      "  n_iter_i = _check_optimize_result(\n"
     ]
    },
    {
     "name": "stdout",
     "output_type": "stream",
     "text": [
      "0.592436974789916\n",
      "[[969 666]\n",
      " [110 159]]\n",
      "RandomForestClassifier\n",
      "0.6853991596638656\n",
      "[[879 399]\n",
      " [200 426]]\n",
      "DecisionTreeClassifier\n",
      "0.6407563025210085\n",
      "[[752 357]\n",
      " [327 468]]\n",
      "KNeighborsClassifier\n",
      "0.5861344537815126\n",
      "[[738 447]\n",
      " [341 378]]\n"
     ]
    },
    {
     "name": "stderr",
     "output_type": "stream",
     "text": [
      "/Users/macbook/opt/anaconda3/lib/python3.9/site-packages/sklearn/neighbors/_classification.py:228: FutureWarning: Unlike other reduction functions (e.g. `skew`, `kurtosis`), the default behavior of `mode` typically preserves the axis it acts along. In SciPy 1.11.0, this behavior will change: the default value of `keepdims` will become False, the `axis` over which the statistic is taken will be eliminated, and the value None will no longer be accepted. Set `keepdims` to True or False to avoid this warning.\n",
      "  mode, _ = stats.mode(_y[neigh_ind, k], axis=1)\n"
     ]
    }
   ],
   "source": [
    "score=[]\n",
    "print('Logistic Regression')\n",
    "score.append(modelling (log, x_train,x_test,y_train,y_test))\n",
    "print('SVC')\n",
    "score.append(modelling (support, x_train,x_test,y_train,y_test))\n",
    "print('RandomForestClassifier')\n",
    "score.append(modelling (RF, x_train,x_test,y_train,y_test))\n",
    "print('DecisionTreeClassifier')\n",
    "score.append(modelling (DTC, x_train,x_test,y_train,y_test))\n",
    "print('KNeighborsClassifier')\n",
    "score.append(modelling (Neg, x_train,x_test,y_train,y_test))"
   ]
  },
  {
   "cell_type": "code",
   "execution_count": 64,
   "id": "48089f5b",
   "metadata": {},
   "outputs": [
    {
     "data": {
      "text/plain": [
       "[<matplotlib.lines.Line2D at 0x7f7a89f59610>]"
      ]
     },
     "execution_count": 64,
     "metadata": {},
     "output_type": "execute_result"
    },
    {
     "data": {
      "image/png": "[encoded data removed]",
      "text/plain": [
       "<Figure size 640x480 with 1 Axes>"
      ]
     },
     "metadata": {},
     "output_type": "display_data"
    }
   ],
   "source": [
    "plt.plot(['Logistic Regression','SVC','RandomForest','DecisionTree','KNeighbors'],score)"
   ]
  },
  {
   "cell_type": "markdown",
   "id": "fe30a87b",
   "metadata": {},
   "source": [
    "## Summary\n",
    "### Problem\n",
    "Highest Accuracy is of Random Forest is 69.3% which is low because of so many zero(padding) we use to equalize the length of input array \n"
   ]
  },
  {
   "cell_type": "markdown",
   "id": "5d66ad31",
   "metadata": {},
   "source": [
    "# Solution"
   ]
  },
  {
   "cell_type": "markdown",
   "id": "afe81cd7",
   "metadata": {},
   "source": [
    "For preprocessing we can use TF-ID Vectorizer to convert string to numeric.\n",
    "\n",
    "In this we have features instead of array of a tweet"
   ]
  },
  {
   "cell_type": "code",
   "execution_count": 65,
   "id": "d4c40a41",
   "metadata": {},
   "outputs": [],
   "source": [
    "from sklearn.feature_extraction.text import TfidfVectorizer\n",
    "from sklearn.metrics import accuracy_score ,classification_report,confusion_matrix"
   ]
  },
  {
   "cell_type": "markdown",
   "id": "dcb47647",
   "metadata": {},
   "source": [
    "### Defined Train Data from clean string not array"
   ]
  },
  {
   "cell_type": "code",
   "execution_count": 66,
   "id": "eb424ed0",
   "metadata": {},
   "outputs": [],
   "source": [
    "x= df['Cleaned(not array)']"
   ]
  },
  {
   "cell_type": "code",
   "execution_count": 67,
   "id": "955b8c9e",
   "metadata": {},
   "outputs": [],
   "source": [
    "classifier=TfidfVectorizer()\n",
    "x=classifier.fit_transform(x)"
   ]
  },
  {
   "cell_type": "markdown",
   "id": "5a17a633",
   "metadata": {},
   "source": [
    "### Test Data"
   ]
  },
  {
   "cell_type": "code",
   "execution_count": 68,
   "id": "8f1a06a8",
   "metadata": {},
   "outputs": [],
   "source": [
    "xt=classifier.transform(test['text'].apply(processs_tweet))"
   ]
  },
  {
   "cell_type": "markdown",
   "id": "6e5f8b5e",
   "metadata": {},
   "source": [
    "### Spliting Train Data Set"
   ]
  },
  {
   "cell_type": "code",
   "execution_count": 69,
   "id": "735d2835",
   "metadata": {},
   "outputs": [],
   "source": [
    "x_train,x_test,y_train,y_test = train_test_split(x,df['target'], test_size = 0.25)"
   ]
  },
  {
   "cell_type": "markdown",
   "id": "87b40e94",
   "metadata": {},
   "source": [
    "## Modeling"
   ]
  },
  {
   "cell_type": "code",
   "execution_count": 70,
   "id": "89911517",
   "metadata": {},
   "outputs": [
    {
     "name": "stdout",
     "output_type": "stream",
     "text": [
      "Logistic Regression\n",
      "0.8035714285714286\n",
      "[[997 268]\n",
      " [106 533]]\n",
      "SVC\n",
      "0.7962184873949579\n",
      "[[1008  293]\n",
      " [  95  508]]\n",
      "RandomForestClassifier\n",
      "0.7710084033613446\n",
      "[[929 262]\n",
      " [174 539]]\n",
      "DecisionTreeClassifier\n",
      "0.7300420168067226\n",
      "[[849 260]\n",
      " [254 541]]\n",
      "KNeighborsClassifier\n",
      "0.5882352941176471\n",
      "[[611 292]\n",
      " [492 509]]\n"
     ]
    },
    {
     "name": "stderr",
     "output_type": "stream",
     "text": [
      "/Users/macbook/opt/anaconda3/lib/python3.9/site-packages/sklearn/neighbors/_classification.py:228: FutureWarning: Unlike other reduction functions (e.g. `skew`, `kurtosis`), the default behavior of `mode` typically preserves the axis it acts along. In SciPy 1.11.0, this behavior will change: the default value of `keepdims` will become False, the `axis` over which the statistic is taken will be eliminated, and the value None will no longer be accepted. Set `keepdims` to True or False to avoid this warning.\n",
      "  mode, _ = stats.mode(_y[neigh_ind, k], axis=1)\n"
     ]
    }
   ],
   "source": [
    "scorext=[]\n",
    "print('Logistic Regression')\n",
    "scorext.append(modelling (log, x_train,x_test,y_train,y_test))\n",
    "print('SVC')\n",
    "scorext.append(modelling (support, x_train,x_test,y_train,y_test))\n",
    "print('RandomForestClassifier')\n",
    "scorext.append(modelling (RF, x_train,x_test,y_train,y_test))\n",
    "print('DecisionTreeClassifier')\n",
    "scorext.append(modelling (DTC, x_train,x_test,y_train,y_test))\n",
    "print('KNeighborsClassifier')\n",
    "scorext.append(modelling (Neg, x_train,x_test,y_train,y_test))"
   ]
  },
  {
   "cell_type": "code",
   "execution_count": 71,
   "id": "a9fd9148",
   "metadata": {},
   "outputs": [
    {
     "data": {
      "text/plain": [
       "[<matplotlib.lines.Line2D at 0x7f7a8b67f310>]"
      ]
     },
     "execution_count": 71,
     "metadata": {},
     "output_type": "execute_result"
    },
    {
     "data": {
      "image/png": "[encoded data removed]",
      "text/plain": [
       "<Figure size 640x480 with 1 Axes>"
      ]
     },
     "metadata": {},
     "output_type": "display_data"
    }
   ],
   "source": [
    "plt.plot(['Logistic Regression','SVC','RandomForest','DecisionTree','KNeighbors'],scorext)"
   ]
  },
  {
   "cell_type": "markdown",
   "id": "cb339884",
   "metadata": {},
   "source": [
    "### Highest accuracy is 80% model is same with default parameters but preprocessign technique is differentm"
   ]
  },
  {
   "cell_type": "markdown",
   "id": "54194701",
   "metadata": {},
   "source": [
    "Usiing Support Vector Classifier for submisison"
   ]
  },
  {
   "cell_type": "code",
   "execution_count": 72,
   "id": "e9d08563",
   "metadata": {},
   "outputs": [
    {
     "data": {
      "text/plain": [
       "SVC()"
      ]
     },
     "execution_count": 72,
     "metadata": {},
     "output_type": "execute_result"
    }
   ],
   "source": [
    "support.fit(x,df['target'])"
   ]
  },
  {
   "cell_type": "code",
   "execution_count": 73,
   "id": "43cb7383",
   "metadata": {},
   "outputs": [],
   "source": [
    "ypred_test= support.predict(xt)"
   ]
  },
  {
   "cell_type": "code",
   "execution_count": 74,
   "id": "c58c9e2e",
   "metadata": {},
   "outputs": [],
   "source": [
    "#submission= pd.read_csv('/Users/macbook/Desktop/DATA SCIENCE/Kaggle notebooks/NLP disaster/sample_submission.csv')"
   ]
  },
  {
   "cell_type": "code",
   "execution_count": null,
   "id": "ceacafd3",
   "metadata": {},
   "outputs": [],
   "source": [
    "submission = pd.DataFrame({'id':test['id'],'target':ypred_test})\n",
    "#submission.to_csv('/Users/macbook/Desktop/out.csv',index=False)\n",
    "submission.to_csv('submission.csv',index=False)"
   ]
  },
  {
   "cell_type": "code",
   "execution_count": null,
   "id": "4d9fdbed",
   "metadata": {},
   "outputs": [],
   "source": [
    "submission"
   ]
  },
  {
   "cell_type": "markdown",
   "id": "49bc2eb6",
   "metadata": {},
   "source": [
    "# Summary"
   ]
  },
  {
   "cell_type": "markdown",
   "id": "f48c7805",
   "metadata": {},
   "source": [
    "### Alogrithm Results Table :\n",
    "\n",
    "\n",
    "|Sr. No.|ML Algorithm|Padding Accuracy|TF-IDV Accuracy\n",
    "|-|-|-|-|\n",
    "|1|Logistic Regression|56.35%|80.56%\n",
    "|2|Support Vector Classifier|59.34%|80.51%\n",
    "|3|Random Forest Classifier|69.32%|78.36%\n",
    "|4|Decision Tree Classifier|62.76%|73.47%\n",
    "|5|K-Nearest Neighbors Classfier|58.92%|59.5%"
   ]
  },
  {
   "cell_type": "markdown",
   "id": "6180fdda",
   "metadata": {},
   "source": [
    "# <center><div style=\"font-family: Trebuchet MS; background-color: #ADD8E6; color: #00000; padding: 12px; line-height: 1;\">Please upvote if you like the work!</div></center><center><div style=\"font-family: Trebuchet MS; background-color: #ADD8E6; color: #00000; padding: 12px; line-height: 1;\">Thank You!</div></center>"
   ]
  }
 ],
 "metadata": {
  "kernelspec": {
   "display_name": "Python 3 (ipykernel)",
   "language": "python",
   "name": "python3"
  },
  "language_info": {
   "codemirror_mode": {
    "name": "ipython",
    "version": 3
   },
   "file_extension": ".py",
   "mimetype": "text/x-python",
   "name": "python",
   "nbconvert_exporter": "python",
   "pygments_lexer": "ipython3",
   "version": "3.9.13"
  }
 },
 "nbformat": 4,
 "nbformat_minor": 5
}
